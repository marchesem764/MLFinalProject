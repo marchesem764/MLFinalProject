{
 "cells": [
  {
   "cell_type": "markdown",
   "metadata": {},
   "source": [
    "FIDE Chess Machine Learning\n",
    "---"
   ]
  },
  {
   "cell_type": "markdown",
   "metadata": {},
   "source": [
    "Frame the Problem and Look at the Big Picture\n",
    "---\n",
    "\n",
    "**1. Define the objective in business terms.**\n",
    "\n",
    "The objective of this problem is to discover interesting trends in the world of competitive chess. FIDE will be focused on rather than national chess organizations because they have the toughest competition. FIDE is where who will be the next world champion is decided. We want to predict who the next world chess champion is going to be. We also want to figure out what the record for the highest ELO is going to be (whether it will break the current ceiling or not). We want to find out what chess players are trending in a good direction for breaking the current ceiling (setting a record) and becoming world champion. We also want to find out what countries will generate the next best players.\n",
    "\n",
    "**2. How will your solution be used?**\n",
    "\n",
    "Our solution can be used for a variety of ways from determining specific statistics and trends about current players to studying how players become better at chess overtime depending on age, gender and country of origin. Our dataset can be used by worldwide chess federations to determine how to grow and get better players.\n",
    "\n",
    "**3. What are the current solutions/workarounds (if any)?**\n",
    "\n",
    "There are no currently existing solutions. There are however machine learning solutions for a computer to play chess. These solutions are highly effective and computers are extremely strong at chess. This could possibly help us if we applied this to analyzing games of different players to find trends.\n",
    "\n",
    "**4. How should you frame this problem (supervised/unsupervised, online/offline, ...)?**\n",
    "\n",
    "This is a supervised regression problem because we are using historical data to predict a continuous feature. The system should be offline as the data is only updated around every year. This could also be done as a classification problem because we are trying to figure out if someone will be world champion or not. However, the world champion is most likely just going to be the person with the highest rating. But this does not necessarily always need to be true, especially in the future. This part might be able to be classification if we create a second model that we feed the results of the first model (the one that predicts ELO) into.\n",
    "\n",
    "**5. How should performance be measured? Is the performance measure aligned with the business objective?**\n",
    "\n",
    "Performance on the predicted ELO can be measured by measuring the mean square error of the predictions. Because this is a forecasting problem, we would take a window of our data instead of a test set. For the classification part, the performance can be measured by taking the accuracy of the predictions. The performance will definitely be aligned with our business objective since we want to accurately predict future ELO and accurately predict future world chess champions.\n",
    "\n",
    "**6. What would be the minimum performance needed to reach the business objective?**\n",
    "\n",
    "The minimum performance needed to reach the business objective could be subjected to the idea that we want our solution to be very accurate in at least placing players within a range of 10-20 rank for where they will be placed for coming years. If we can achieve accuracy where we can label what countries have the most prolific chess players and label what countries are achieving the most growth that would be a good place to start with the idea of minimum performance.\n",
    "\n",
    "**7. What are comparable problems? Can you reuse experience or tools?**\n",
    "\n",
    "When jumping into this problem the first thing that came to my mind in terms of comparable problems was the housing income problem where we ultimately tried to discover interesting remarks about the housing income and prices in a specified area. Taking this into account we can look at how that problem can be somewhat comparable as we are taking individuals (houses) from specific countries (locations) and seeing what their value / skill is to the game of chess (price). Weather forecasting is also somewhat similar.\n",
    "\n",
    "**8. Is human expertise available?**\n",
    "Chess is a very popular hobby / sport in which millions of people take part in. There are tons of very good developers that have made projects similar to ours so that may be of use to us. There is human expertise in the form of chess grandmasters and commentators. They understand the players as people and they understand their playing styles. They can predict rank/world champion based on this criteria.\n",
    "\n",
    "**9. How would you solve the problem manually?**\n",
    "\n",
    "The problem could be solved manually by first finding out whether someone has peaked or not. If someone has peaked then they can be ruled out for increasing ELO or becoming world chess champion. Most younger players definitely have not peaked. This is the group that is the most interesting and promising for future world champions. We could find the fastest growing younger players and simply choose one of them as a candidate for future world championships.\n",
    "\n",
    "**10. List the assumptions you (or others) have made so far. Verify assumptions if possible.**\n",
    "\n",
    "The assumptions that we have made so far would include that all of the data provided is accurate and updated correctly. This includes players’ age, gender, ELO rating, country of origin and title.\n"
   ]
  },
  {
   "cell_type": "code",
   "execution_count": 1,
   "metadata": {},
   "outputs": [],
   "source": [
    "import ast\n",
    "\n",
    "import numpy as np\n",
    "import scipy.sparse\n",
    "import scipy as sp\n",
    "import pandas as pd\n",
    "\n",
    "import matplotlib.pylab as plt\n",
    "import seaborn as sns\n",
    "\n",
    "from sklearn.cluster import KMeans\n",
    "from sklearn.preprocessing import StandardScaler, RobustScaler, FunctionTransformer\n",
    "from sklearn.base import BaseEstimator, TransformerMixin\n",
    "from sklearn.pipeline import Pipeline\n",
    "from sklearn.compose import ColumnTransformer\n",
    "from sklearn.model_selection import GridSearchCV\n",
    "from sklearn.preprocessing import MultiLabelBinarizer"
   ]
  },
  {
   "cell_type": "markdown",
   "metadata": {},
   "source": [
    "Get the Data\n",
    "---\n",
    "**1. List the data you need and how much you need**\n",
    "\n",
    "For our problem we will need a whole set of data about all types of demographics, ratings, and names of all players that are listed and rated under FIDE... On top of that it would be beneficial to have multiple years included with all of this data alongside it.\n",
    "\n",
    "**2. Find and document where you can get that data** \n",
    "\n",
    "We will most likely end up using data that is compiled on a website called kaggle. The link is posted below.\n",
    "\n",
    "https://www.kaggle.com/datasets/rohanrao/chess-fide-ratings?select=players.csv\n",
    "\n",
    "**3. Get access authorizations** \n",
    "\n",
    "Kaggle datasets are publically avaliable\n",
    "\n",
    "**4. Create a workspace (with enough storage space)** \n",
    "\n",
    "VSCode Jupyter Notebooks\n",
    "\n",
    "**5. Get the data** \n",
    "\n",
    "Done\n",
    "\n",
    "**6. Convert the data to a format you can easily manipulate (without changing the data itself)** \n",
    "\n",
    "Currently in csv format which is easily usable\n",
    "\n",
    "**7. Ensure sensitive information is deleted or protected (e.g. anonymized)** \n",
    "\n",
    "Done\n",
    "\n",
    "**8. Check the size and type of data (time series, geographical, ...)** \n",
    "\n",
    "around 200.5 MbS..\n",
    "\n",
    "**9. Sample a test set, put it aside, and never look at it (no data snooping!)** "
   ]
  },
  {
   "cell_type": "markdown",
   "metadata": {},
   "source": [
    "Explore the Data \n",
    "---"
   ]
  },
  {
   "cell_type": "code",
   "execution_count": 2,
   "metadata": {},
   "outputs": [],
   "source": [
    "def load_players_data():\n",
    "    \"\"\"\n",
    "    Loads the CSV file which contains our data for players.\n",
    "    \"\"\"\n",
    "    return pd.read_csv('players.csv')\n",
    "\n",
    "def load_ratings(year):\n",
    "    \"\"\"\n",
    "    These functions load each individuals years data,\n",
    "    \"\"\"\n",
    "    return pd.read_csv('ratings_' + str(year) + '.csv')"
   ]
  },
  {
   "cell_type": "markdown",
   "metadata": {},
   "source": [
    "**1. Copy the data for exploration, downsampling to a manageable size if necessary.**"
   ]
  },
  {
   "cell_type": "code",
   "execution_count": 3,
   "metadata": {},
   "outputs": [],
   "source": [
    "players = load_players_data()\n",
    "year_15 = load_ratings(2015)\n",
    "year_16 = load_ratings(2016)\n",
    "year_17 = load_ratings(2017)\n",
    "year_18 = load_ratings(2018)\n",
    "year_19 = load_ratings(2019)\n",
    "year_20 = load_ratings(2020)\n",
    "year_21 = load_ratings(2021)"
   ]
  },
  {
   "cell_type": "code",
   "execution_count": 4,
   "metadata": {},
   "outputs": [
    {
     "name": "stdout",
     "output_type": "stream",
     "text": [
      "<class 'pandas.core.frame.DataFrame'>\n",
      "RangeIndex: 433388 entries, 0 to 433387\n",
      "Data columns (total 6 columns):\n",
      " #   Column      Non-Null Count   Dtype \n",
      "---  ------      --------------   ----- \n",
      " 0   fide_id     433388 non-null  int64 \n",
      " 1   name        433388 non-null  object\n",
      " 2   federation  433388 non-null  object\n",
      " 3   gender      433388 non-null  object\n",
      " 4   title       19498 non-null   object\n",
      " 5   yob         433388 non-null  int64 \n",
      "dtypes: int64(2), object(4)\n",
      "memory usage: 19.8+ MB\n"
     ]
    }
   ],
   "source": [
    "players.info()"
   ]
  },
  {
   "cell_type": "code",
   "execution_count": 5,
   "metadata": {},
   "outputs": [
    {
     "data": {
      "text/html": [
       "<div>\n",
       "<style scoped>\n",
       "    .dataframe tbody tr th:only-of-type {\n",
       "        vertical-align: middle;\n",
       "    }\n",
       "\n",
       "    .dataframe tbody tr th {\n",
       "        vertical-align: top;\n",
       "    }\n",
       "\n",
       "    .dataframe thead th {\n",
       "        text-align: right;\n",
       "    }\n",
       "</style>\n",
       "<table border=\"1\" class=\"dataframe\">\n",
       "  <thead>\n",
       "    <tr style=\"text-align: right;\">\n",
       "      <th></th>\n",
       "      <th>fide_id</th>\n",
       "      <th>yob</th>\n",
       "    </tr>\n",
       "  </thead>\n",
       "  <tbody>\n",
       "    <tr>\n",
       "      <th>count</th>\n",
       "      <td>4.333880e+05</td>\n",
       "      <td>433388.000000</td>\n",
       "    </tr>\n",
       "    <tr>\n",
       "      <th>mean</th>\n",
       "      <td>1.979331e+07</td>\n",
       "      <td>1940.034408</td>\n",
       "    </tr>\n",
       "    <tr>\n",
       "      <th>std</th>\n",
       "      <td>5.138192e+07</td>\n",
       "      <td>290.260909</td>\n",
       "    </tr>\n",
       "    <tr>\n",
       "      <th>min</th>\n",
       "      <td>1.000130e+05</td>\n",
       "      <td>0.000000</td>\n",
       "    </tr>\n",
       "    <tr>\n",
       "      <th>25%</th>\n",
       "      <td>2.510166e+06</td>\n",
       "      <td>1966.000000</td>\n",
       "    </tr>\n",
       "    <tr>\n",
       "      <th>50%</th>\n",
       "      <td>1.232708e+07</td>\n",
       "      <td>1986.000000</td>\n",
       "    </tr>\n",
       "    <tr>\n",
       "      <th>75%</th>\n",
       "      <td>2.500971e+07</td>\n",
       "      <td>2001.000000</td>\n",
       "    </tr>\n",
       "    <tr>\n",
       "      <th>max</th>\n",
       "      <td>6.510818e+08</td>\n",
       "      <td>2015.000000</td>\n",
       "    </tr>\n",
       "  </tbody>\n",
       "</table>\n",
       "</div>"
      ],
      "text/plain": [
       "            fide_id            yob\n",
       "count  4.333880e+05  433388.000000\n",
       "mean   1.979331e+07    1940.034408\n",
       "std    5.138192e+07     290.260909\n",
       "min    1.000130e+05       0.000000\n",
       "25%    2.510166e+06    1966.000000\n",
       "50%    1.232708e+07    1986.000000\n",
       "75%    2.500971e+07    2001.000000\n",
       "max    6.510818e+08    2015.000000"
      ]
     },
     "execution_count": 5,
     "metadata": {},
     "output_type": "execute_result"
    }
   ],
   "source": [
    "players.describe()"
   ]
  },
  {
   "cell_type": "code",
   "execution_count": 6,
   "metadata": {},
   "outputs": [
    {
     "data": {
      "text/html": [
       "<div>\n",
       "<style scoped>\n",
       "    .dataframe tbody tr th:only-of-type {\n",
       "        vertical-align: middle;\n",
       "    }\n",
       "\n",
       "    .dataframe tbody tr th {\n",
       "        vertical-align: top;\n",
       "    }\n",
       "\n",
       "    .dataframe thead th {\n",
       "        text-align: right;\n",
       "    }\n",
       "</style>\n",
       "<table border=\"1\" class=\"dataframe\">\n",
       "  <thead>\n",
       "    <tr style=\"text-align: right;\">\n",
       "      <th></th>\n",
       "      <th>fide_id</th>\n",
       "      <th>name</th>\n",
       "      <th>federation</th>\n",
       "      <th>gender</th>\n",
       "      <th>title</th>\n",
       "      <th>yob</th>\n",
       "    </tr>\n",
       "  </thead>\n",
       "  <tbody>\n",
       "    <tr>\n",
       "      <th>0</th>\n",
       "      <td>100013</td>\n",
       "      <td>Campora, Daniel H.</td>\n",
       "      <td>ARG</td>\n",
       "      <td>M</td>\n",
       "      <td>GM</td>\n",
       "      <td>1957</td>\n",
       "    </tr>\n",
       "    <tr>\n",
       "      <th>1</th>\n",
       "      <td>100021</td>\n",
       "      <td>Quinteros, Miguel A.</td>\n",
       "      <td>ARG</td>\n",
       "      <td>M</td>\n",
       "      <td>GM</td>\n",
       "      <td>1947</td>\n",
       "    </tr>\n",
       "    <tr>\n",
       "      <th>2</th>\n",
       "      <td>100048</td>\n",
       "      <td>Iapichello, Javier</td>\n",
       "      <td>ARG</td>\n",
       "      <td>M</td>\n",
       "      <td>NaN</td>\n",
       "      <td>1990</td>\n",
       "    </tr>\n",
       "    <tr>\n",
       "      <th>3</th>\n",
       "      <td>100064</td>\n",
       "      <td>Schipper, Bernardo</td>\n",
       "      <td>ARG</td>\n",
       "      <td>M</td>\n",
       "      <td>NaN</td>\n",
       "      <td>2000</td>\n",
       "    </tr>\n",
       "    <tr>\n",
       "      <th>4</th>\n",
       "      <td>100072</td>\n",
       "      <td>Adla, Diego</td>\n",
       "      <td>ARG</td>\n",
       "      <td>M</td>\n",
       "      <td>IM</td>\n",
       "      <td>1968</td>\n",
       "    </tr>\n",
       "    <tr>\n",
       "      <th>5</th>\n",
       "      <td>100080</td>\n",
       "      <td>Bianchi, Guillermo</td>\n",
       "      <td>ARG</td>\n",
       "      <td>M</td>\n",
       "      <td>IM</td>\n",
       "      <td>1958</td>\n",
       "    </tr>\n",
       "    <tr>\n",
       "      <th>6</th>\n",
       "      <td>100102</td>\n",
       "      <td>Cid, Marino Alejandro</td>\n",
       "      <td>ARG</td>\n",
       "      <td>M</td>\n",
       "      <td>IM</td>\n",
       "      <td>1958</td>\n",
       "    </tr>\n",
       "    <tr>\n",
       "      <th>7</th>\n",
       "      <td>100110</td>\n",
       "      <td>Sanchez Almeyra, Jorge</td>\n",
       "      <td>ARG</td>\n",
       "      <td>M</td>\n",
       "      <td>IM</td>\n",
       "      <td>1968</td>\n",
       "    </tr>\n",
       "    <tr>\n",
       "      <th>8</th>\n",
       "      <td>100129</td>\n",
       "      <td>Gomez Baillo, Jorge H.</td>\n",
       "      <td>ARG</td>\n",
       "      <td>M</td>\n",
       "      <td>IM</td>\n",
       "      <td>1959</td>\n",
       "    </tr>\n",
       "    <tr>\n",
       "      <th>9</th>\n",
       "      <td>100137</td>\n",
       "      <td>Zarnicki, Pablo</td>\n",
       "      <td>ARG</td>\n",
       "      <td>M</td>\n",
       "      <td>GM</td>\n",
       "      <td>1972</td>\n",
       "    </tr>\n",
       "    <tr>\n",
       "      <th>10</th>\n",
       "      <td>100145</td>\n",
       "      <td>Felice, Carolina</td>\n",
       "      <td>ARG</td>\n",
       "      <td>F</td>\n",
       "      <td>NaN</td>\n",
       "      <td>0</td>\n",
       "    </tr>\n",
       "    <tr>\n",
       "      <th>11</th>\n",
       "      <td>100153</td>\n",
       "      <td>Panno, Oscar</td>\n",
       "      <td>ARG</td>\n",
       "      <td>M</td>\n",
       "      <td>GM</td>\n",
       "      <td>1935</td>\n",
       "    </tr>\n",
       "    <tr>\n",
       "      <th>12</th>\n",
       "      <td>100170</td>\n",
       "      <td>Lencioni, Marcelo</td>\n",
       "      <td>ARG</td>\n",
       "      <td>M</td>\n",
       "      <td>NaN</td>\n",
       "      <td>1991</td>\n",
       "    </tr>\n",
       "    <tr>\n",
       "      <th>13</th>\n",
       "      <td>100188</td>\n",
       "      <td>Servat, Roberto</td>\n",
       "      <td>ARG</td>\n",
       "      <td>M</td>\n",
       "      <td>IM</td>\n",
       "      <td>1968</td>\n",
       "    </tr>\n",
       "    <tr>\n",
       "      <th>14</th>\n",
       "      <td>100196</td>\n",
       "      <td>Sorin, Ariel</td>\n",
       "      <td>ARG</td>\n",
       "      <td>M</td>\n",
       "      <td>GM</td>\n",
       "      <td>1967</td>\n",
       "    </tr>\n",
       "    <tr>\n",
       "      <th>15</th>\n",
       "      <td>100200</td>\n",
       "      <td>Fiorito, Fabian</td>\n",
       "      <td>ARG</td>\n",
       "      <td>M</td>\n",
       "      <td>IM</td>\n",
       "      <td>1969</td>\n",
       "    </tr>\n",
       "    <tr>\n",
       "      <th>16</th>\n",
       "      <td>100218</td>\n",
       "      <td>Boissonet, Carlos P.</td>\n",
       "      <td>ARG</td>\n",
       "      <td>M</td>\n",
       "      <td>IM</td>\n",
       "      <td>1969</td>\n",
       "    </tr>\n",
       "    <tr>\n",
       "      <th>17</th>\n",
       "      <td>100234</td>\n",
       "      <td>Glavina, Pablo</td>\n",
       "      <td>ESP</td>\n",
       "      <td>M</td>\n",
       "      <td>IM</td>\n",
       "      <td>1968</td>\n",
       "    </tr>\n",
       "    <tr>\n",
       "      <th>18</th>\n",
       "      <td>100242</td>\n",
       "      <td>Ricardi, Pablo</td>\n",
       "      <td>ARG</td>\n",
       "      <td>M</td>\n",
       "      <td>GM</td>\n",
       "      <td>1962</td>\n",
       "    </tr>\n",
       "    <tr>\n",
       "      <th>19</th>\n",
       "      <td>100250</td>\n",
       "      <td>Slipak, Sergio</td>\n",
       "      <td>ARG</td>\n",
       "      <td>M</td>\n",
       "      <td>GM</td>\n",
       "      <td>1965</td>\n",
       "    </tr>\n",
       "  </tbody>\n",
       "</table>\n",
       "</div>"
      ],
      "text/plain": [
       "    fide_id                    name federation gender title   yob\n",
       "0    100013      Campora, Daniel H.        ARG      M    GM  1957\n",
       "1    100021    Quinteros, Miguel A.        ARG      M    GM  1947\n",
       "2    100048      Iapichello, Javier        ARG      M   NaN  1990\n",
       "3    100064      Schipper, Bernardo        ARG      M   NaN  2000\n",
       "4    100072             Adla, Diego        ARG      M    IM  1968\n",
       "5    100080      Bianchi, Guillermo        ARG      M    IM  1958\n",
       "6    100102   Cid, Marino Alejandro        ARG      M    IM  1958\n",
       "7    100110  Sanchez Almeyra, Jorge        ARG      M    IM  1968\n",
       "8    100129  Gomez Baillo, Jorge H.        ARG      M    IM  1959\n",
       "9    100137         Zarnicki, Pablo        ARG      M    GM  1972\n",
       "10   100145        Felice, Carolina        ARG      F   NaN     0\n",
       "11   100153            Panno, Oscar        ARG      M    GM  1935\n",
       "12   100170       Lencioni, Marcelo        ARG      M   NaN  1991\n",
       "13   100188         Servat, Roberto        ARG      M    IM  1968\n",
       "14   100196            Sorin, Ariel        ARG      M    GM  1967\n",
       "15   100200         Fiorito, Fabian        ARG      M    IM  1969\n",
       "16   100218    Boissonet, Carlos P.        ARG      M    IM  1969\n",
       "17   100234          Glavina, Pablo        ESP      M    IM  1968\n",
       "18   100242          Ricardi, Pablo        ARG      M    GM  1962\n",
       "19   100250          Slipak, Sergio        ARG      M    GM  1965"
      ]
     },
     "execution_count": 6,
     "metadata": {},
     "output_type": "execute_result"
    }
   ],
   "source": [
    "players.head(20)"
   ]
  },
  {
   "cell_type": "code",
   "execution_count": 7,
   "metadata": {},
   "outputs": [
    {
     "data": {
      "text/html": [
       "<div>\n",
       "<style scoped>\n",
       "    .dataframe tbody tr th:only-of-type {\n",
       "        vertical-align: middle;\n",
       "    }\n",
       "\n",
       "    .dataframe tbody tr th {\n",
       "        vertical-align: top;\n",
       "    }\n",
       "\n",
       "    .dataframe thead th {\n",
       "        text-align: right;\n",
       "    }\n",
       "</style>\n",
       "<table border=\"1\" class=\"dataframe\">\n",
       "  <thead>\n",
       "    <tr style=\"text-align: right;\">\n",
       "      <th></th>\n",
       "      <th>index</th>\n",
       "      <th>title</th>\n",
       "    </tr>\n",
       "  </thead>\n",
       "  <tbody>\n",
       "    <tr>\n",
       "      <th>0</th>\n",
       "      <td>FM</td>\n",
       "      <td>8245</td>\n",
       "    </tr>\n",
       "    <tr>\n",
       "      <th>1</th>\n",
       "      <td>IM</td>\n",
       "      <td>3887</td>\n",
       "    </tr>\n",
       "    <tr>\n",
       "      <th>2</th>\n",
       "      <td>CM</td>\n",
       "      <td>1898</td>\n",
       "    </tr>\n",
       "    <tr>\n",
       "      <th>3</th>\n",
       "      <td>WFM</td>\n",
       "      <td>1758</td>\n",
       "    </tr>\n",
       "    <tr>\n",
       "      <th>4</th>\n",
       "      <td>GM</td>\n",
       "      <td>1727</td>\n",
       "    </tr>\n",
       "    <tr>\n",
       "      <th>5</th>\n",
       "      <td>WIM</td>\n",
       "      <td>837</td>\n",
       "    </tr>\n",
       "    <tr>\n",
       "      <th>6</th>\n",
       "      <td>WCM</td>\n",
       "      <td>781</td>\n",
       "    </tr>\n",
       "    <tr>\n",
       "      <th>7</th>\n",
       "      <td>WGM</td>\n",
       "      <td>318</td>\n",
       "    </tr>\n",
       "    <tr>\n",
       "      <th>8</th>\n",
       "      <td>NI</td>\n",
       "      <td>23</td>\n",
       "    </tr>\n",
       "    <tr>\n",
       "      <th>9</th>\n",
       "      <td>DI</td>\n",
       "      <td>17</td>\n",
       "    </tr>\n",
       "    <tr>\n",
       "      <th>10</th>\n",
       "      <td>FI</td>\n",
       "      <td>5</td>\n",
       "    </tr>\n",
       "    <tr>\n",
       "      <th>11</th>\n",
       "      <td>WH</td>\n",
       "      <td>1</td>\n",
       "    </tr>\n",
       "    <tr>\n",
       "      <th>12</th>\n",
       "      <td>0,0,NI</td>\n",
       "      <td>1</td>\n",
       "    </tr>\n",
       "  </tbody>\n",
       "</table>\n",
       "</div>"
      ],
      "text/plain": [
       "     index  title\n",
       "0       FM   8245\n",
       "1       IM   3887\n",
       "2       CM   1898\n",
       "3      WFM   1758\n",
       "4       GM   1727\n",
       "5      WIM    837\n",
       "6      WCM    781\n",
       "7      WGM    318\n",
       "8       NI     23\n",
       "9       DI     17\n",
       "10      FI      5\n",
       "11      WH      1\n",
       "12  0,0,NI      1"
      ]
     },
     "execution_count": 7,
     "metadata": {},
     "output_type": "execute_result"
    }
   ],
   "source": [
    "title_values = players['title'].value_counts().reset_index()\n",
    "title_values"
   ]
  },
  {
   "cell_type": "code",
   "execution_count": 8,
   "metadata": {},
   "outputs": [
    {
     "name": "stdout",
     "output_type": "stream",
     "text": [
      "<class 'pandas.core.frame.DataFrame'>\n",
      "RangeIndex: 2680191 entries, 0 to 2680190\n",
      "Data columns (total 6 columns):\n",
      " #   Column           Dtype  \n",
      "---  ------           -----  \n",
      " 0   fide_id          int64  \n",
      " 1   year             int64  \n",
      " 2   month            int64  \n",
      " 3   rating_standard  float64\n",
      " 4   rating_rapid     float64\n",
      " 5   rating_blitz     float64\n",
      "dtypes: float64(3), int64(3)\n",
      "memory usage: 122.7 MB\n"
     ]
    }
   ],
   "source": [
    "year_15.info()"
   ]
  },
  {
   "cell_type": "code",
   "execution_count": 9,
   "metadata": {},
   "outputs": [
    {
     "data": {
      "text/html": [
       "<div>\n",
       "<style scoped>\n",
       "    .dataframe tbody tr th:only-of-type {\n",
       "        vertical-align: middle;\n",
       "    }\n",
       "\n",
       "    .dataframe tbody tr th {\n",
       "        vertical-align: top;\n",
       "    }\n",
       "\n",
       "    .dataframe thead th {\n",
       "        text-align: right;\n",
       "    }\n",
       "</style>\n",
       "<table border=\"1\" class=\"dataframe\">\n",
       "  <thead>\n",
       "    <tr style=\"text-align: right;\">\n",
       "      <th></th>\n",
       "      <th>fide_id</th>\n",
       "      <th>year</th>\n",
       "      <th>month</th>\n",
       "      <th>rating_standard</th>\n",
       "      <th>rating_rapid</th>\n",
       "      <th>rating_blitz</th>\n",
       "    </tr>\n",
       "  </thead>\n",
       "  <tbody>\n",
       "    <tr>\n",
       "      <th>count</th>\n",
       "      <td>2.680191e+06</td>\n",
       "      <td>2680191.0</td>\n",
       "      <td>2.680191e+06</td>\n",
       "      <td>2.554932e+06</td>\n",
       "      <td>621048.000000</td>\n",
       "      <td>506504.000000</td>\n",
       "    </tr>\n",
       "    <tr>\n",
       "      <th>mean</th>\n",
       "      <td>1.118616e+07</td>\n",
       "      <td>2015.0</td>\n",
       "      <td>6.676958e+00</td>\n",
       "      <td>1.828016e+03</td>\n",
       "      <td>1828.961328</td>\n",
       "      <td>1866.914099</td>\n",
       "    </tr>\n",
       "    <tr>\n",
       "      <th>std</th>\n",
       "      <td>1.291850e+07</td>\n",
       "      <td>0.0</td>\n",
       "      <td>3.449523e+00</td>\n",
       "      <td>3.034101e+02</td>\n",
       "      <td>310.426087</td>\n",
       "      <td>303.837760</td>\n",
       "    </tr>\n",
       "    <tr>\n",
       "      <th>min</th>\n",
       "      <td>1.000130e+05</td>\n",
       "      <td>2015.0</td>\n",
       "      <td>1.000000e+00</td>\n",
       "      <td>1.001000e+03</td>\n",
       "      <td>1000.000000</td>\n",
       "      <td>1000.000000</td>\n",
       "    </tr>\n",
       "    <tr>\n",
       "      <th>25%</th>\n",
       "      <td>1.515837e+06</td>\n",
       "      <td>2015.0</td>\n",
       "      <td>4.000000e+00</td>\n",
       "      <td>1.627000e+03</td>\n",
       "      <td>1620.000000</td>\n",
       "      <td>1666.000000</td>\n",
       "    </tr>\n",
       "    <tr>\n",
       "      <th>50%</th>\n",
       "      <td>4.655672e+06</td>\n",
       "      <td>2015.0</td>\n",
       "      <td>7.000000e+00</td>\n",
       "      <td>1.856000e+03</td>\n",
       "      <td>1841.000000</td>\n",
       "      <td>1881.000000</td>\n",
       "    </tr>\n",
       "    <tr>\n",
       "      <th>75%</th>\n",
       "      <td>1.990007e+07</td>\n",
       "      <td>2015.0</td>\n",
       "      <td>1.000000e+01</td>\n",
       "      <td>2.053000e+03</td>\n",
       "      <td>2044.000000</td>\n",
       "      <td>2074.000000</td>\n",
       "    </tr>\n",
       "    <tr>\n",
       "      <th>max</th>\n",
       "      <td>3.832667e+08</td>\n",
       "      <td>2015.0</td>\n",
       "      <td>1.200000e+01</td>\n",
       "      <td>2.876000e+03</td>\n",
       "      <td>2873.000000</td>\n",
       "      <td>2948.000000</td>\n",
       "    </tr>\n",
       "  </tbody>\n",
       "</table>\n",
       "</div>"
      ],
      "text/plain": [
       "            fide_id       year         month  rating_standard   rating_rapid  \\\n",
       "count  2.680191e+06  2680191.0  2.680191e+06     2.554932e+06  621048.000000   \n",
       "mean   1.118616e+07     2015.0  6.676958e+00     1.828016e+03    1828.961328   \n",
       "std    1.291850e+07        0.0  3.449523e+00     3.034101e+02     310.426087   \n",
       "min    1.000130e+05     2015.0  1.000000e+00     1.001000e+03    1000.000000   \n",
       "25%    1.515837e+06     2015.0  4.000000e+00     1.627000e+03    1620.000000   \n",
       "50%    4.655672e+06     2015.0  7.000000e+00     1.856000e+03    1841.000000   \n",
       "75%    1.990007e+07     2015.0  1.000000e+01     2.053000e+03    2044.000000   \n",
       "max    3.832667e+08     2015.0  1.200000e+01     2.876000e+03    2873.000000   \n",
       "\n",
       "        rating_blitz  \n",
       "count  506504.000000  \n",
       "mean     1866.914099  \n",
       "std       303.837760  \n",
       "min      1000.000000  \n",
       "25%      1666.000000  \n",
       "50%      1881.000000  \n",
       "75%      2074.000000  \n",
       "max      2948.000000  "
      ]
     },
     "execution_count": 9,
     "metadata": {},
     "output_type": "execute_result"
    }
   ],
   "source": [
    "year_15.describe()"
   ]
  },
  {
   "cell_type": "markdown",
   "metadata": {},
   "source": [
    "**2. Study each attribute and its characteristics: Name; Type (categorical, numerical, bounded, text, structured, ...); % of missing values; Noisiness and type of noise (stochastic, outliers, rounding errors, ...); Usefulness for the task; Type of distribution (Gaussian, uniform, logarithmic, ...)** "
   ]
  },
  {
   "cell_type": "markdown",
   "metadata": {},
   "source": [
    "Players\n",
    "---\n",
    "The 'fide_id' column is a categorical attribute. It is a unique integer that represents a players id. This is a useful attribute for identifying the different players. No missing values. No noisiness due to it being a set integer. Might as well be a string.\n",
    "\n",
    "The 'name' column is a text attribute that has the player's name. We already have 'fide_id' which will categorize players so not all that useful. No missing values. No noisiness and no type of distribtion due to it being a str\n",
    "\n",
    "The 'federation' column is a categorical text attribute. It has the federation the player is a part of. Could be intresting to see distribution amongst nations not that useful though for direct task on hand. If missing value it's filled with 'NaN' this is because some players don't belong to a federation. No noisiness and no type of distribtion due to it being a str\n",
    "\n",
    "The 'gender' column is a categorical text attribute. It has the gender of the player. Again could be useful in study of Men vs Women for fun analysis but not useful for task at hand. Slight amount of missing values will have to fill that in with NaN's. No noisiness and the distribution is not needed.\n",
    "\n",
    "The 'title' column is a categorical text attribute. It has the title of the player. It is NaN if the player is untitled. Could be useful in sense that we could find top players by already having sense of skill but in terms of predicting future ELO it's not all that important. Certain ranks will reflect how easily or difficult it is to progress further. No missing values. No noisiness and the distribution most closely resembles a log\n",
    "\n",
    "The 'yob' column is a numerical integer column. It has the year the player was born. This feature is not useful at all. Most likely will drop this column. Several Missing values will fill in with NaN's No noisiness and no type of distribution due to it being a str.\n",
    "\n",
    "Ratings\n",
    "---\n",
    "The 'fide_id' column is a categorical attribute. It is a unique integer that represents a players id. This is a useful attribute for identifying the different players. No missing values. No noisiness due to it being a set integer. Might as well be a string. \n",
    "\n",
    "The 'year' column is a numerical integer column. It consist of what year the scores were established in. This feature will be useful in terms of establishing time series for future predictions. This feature will aid in data transformation. No missing values. No Noisiness. Uniform distribution.\n",
    "\n",
    "The 'month' column is a numerical integer column. It consist of what month the scores were established in. This feature will be useful in terms of establishing time series for future predictions. This feature will aid in data transformation. Could potentially find more detailing within the month feature that will train our model with more accuracy. No missing values. No Noisiness. Uniform Distribution\n",
    "\n",
    "The 'rating_standard' column is numerical float column. It is a score eastablished with a certain game mode with a set time format. Standard is the most classical chess time format. This feature will be very useful considering that it is what our model will be predicting scores with. It is a base that will coherse with time to give us prediction of score for the future. Missing values for players that didn't compete in standard games. No Noisiness. Normal Distribution\n",
    "\n",
    "The 'rating_rapid' column is numerical float column. It is a score eastablished with a certain game mode with a set time format. Rapid is standard chess with a faster time control. This feature will be very useful considering that it is what our model will be predicting scores with. It is a base that will coherse with time to give us prediction of score for the future. Missing values for players that didn't compete in rapid games. No Noisiness. Normal Distribution\n",
    "\n",
    "The 'rating_blitz' column is numerical float column. It is a score eastablished with a certain game mode with a set time format. Blitz is the most fast version of chess regarding time control. This feature will be very useful considering that it is what our model will be predicting scores with. It is a base that will coherse with time to give us prediction of score for the future. Missing values for players that didn't compete in blitz games. No Noisiness. Normal Distribution\n",
    "\n"
   ]
  },
  {
   "cell_type": "code",
   "execution_count": 10,
   "metadata": {},
   "outputs": [],
   "source": [
    "# Replace all NaN values in 'title' column with 'UNTITLED' value.\n",
    "players['title'] = players['title'].apply(lambda x: 'UNTITLED' if pd.isna(x) else x)"
   ]
  },
  {
   "cell_type": "code",
   "execution_count": 11,
   "metadata": {},
   "outputs": [],
   "source": [
    "data = pd.merge(players, year_15, on='fide_id')"
   ]
  },
  {
   "cell_type": "code",
   "execution_count": 12,
   "metadata": {},
   "outputs": [
    {
     "data": {
      "text/html": [
       "<div>\n",
       "<style scoped>\n",
       "    .dataframe tbody tr th:only-of-type {\n",
       "        vertical-align: middle;\n",
       "    }\n",
       "\n",
       "    .dataframe tbody tr th {\n",
       "        vertical-align: top;\n",
       "    }\n",
       "\n",
       "    .dataframe thead th {\n",
       "        text-align: right;\n",
       "    }\n",
       "</style>\n",
       "<table border=\"1\" class=\"dataframe\">\n",
       "  <thead>\n",
       "    <tr style=\"text-align: right;\">\n",
       "      <th></th>\n",
       "      <th>fide_id</th>\n",
       "      <th>name</th>\n",
       "      <th>federation</th>\n",
       "      <th>gender</th>\n",
       "      <th>title</th>\n",
       "      <th>yob</th>\n",
       "      <th>year</th>\n",
       "      <th>month</th>\n",
       "      <th>rating_standard</th>\n",
       "      <th>rating_rapid</th>\n",
       "      <th>rating_blitz</th>\n",
       "    </tr>\n",
       "  </thead>\n",
       "  <tbody>\n",
       "    <tr>\n",
       "      <th>0</th>\n",
       "      <td>100013</td>\n",
       "      <td>Campora, Daniel H.</td>\n",
       "      <td>ARG</td>\n",
       "      <td>M</td>\n",
       "      <td>GM</td>\n",
       "      <td>1957</td>\n",
       "      <td>2015</td>\n",
       "      <td>1</td>\n",
       "      <td>2456.0</td>\n",
       "      <td>2462.0</td>\n",
       "      <td>NaN</td>\n",
       "    </tr>\n",
       "    <tr>\n",
       "      <th>1</th>\n",
       "      <td>100013</td>\n",
       "      <td>Campora, Daniel H.</td>\n",
       "      <td>ARG</td>\n",
       "      <td>M</td>\n",
       "      <td>GM</td>\n",
       "      <td>1957</td>\n",
       "      <td>2015</td>\n",
       "      <td>2</td>\n",
       "      <td>2444.0</td>\n",
       "      <td>2462.0</td>\n",
       "      <td>NaN</td>\n",
       "    </tr>\n",
       "    <tr>\n",
       "      <th>2</th>\n",
       "      <td>100013</td>\n",
       "      <td>Campora, Daniel H.</td>\n",
       "      <td>ARG</td>\n",
       "      <td>M</td>\n",
       "      <td>GM</td>\n",
       "      <td>1957</td>\n",
       "      <td>2015</td>\n",
       "      <td>3</td>\n",
       "      <td>2450.0</td>\n",
       "      <td>2462.0</td>\n",
       "      <td>NaN</td>\n",
       "    </tr>\n",
       "    <tr>\n",
       "      <th>3</th>\n",
       "      <td>100013</td>\n",
       "      <td>Campora, Daniel H.</td>\n",
       "      <td>ARG</td>\n",
       "      <td>M</td>\n",
       "      <td>GM</td>\n",
       "      <td>1957</td>\n",
       "      <td>2015</td>\n",
       "      <td>4</td>\n",
       "      <td>2450.0</td>\n",
       "      <td>2462.0</td>\n",
       "      <td>NaN</td>\n",
       "    </tr>\n",
       "    <tr>\n",
       "      <th>4</th>\n",
       "      <td>100013</td>\n",
       "      <td>Campora, Daniel H.</td>\n",
       "      <td>ARG</td>\n",
       "      <td>M</td>\n",
       "      <td>GM</td>\n",
       "      <td>1957</td>\n",
       "      <td>2015</td>\n",
       "      <td>5</td>\n",
       "      <td>2438.0</td>\n",
       "      <td>2462.0</td>\n",
       "      <td>NaN</td>\n",
       "    </tr>\n",
       "    <tr>\n",
       "      <th>5</th>\n",
       "      <td>100013</td>\n",
       "      <td>Campora, Daniel H.</td>\n",
       "      <td>ARG</td>\n",
       "      <td>M</td>\n",
       "      <td>GM</td>\n",
       "      <td>1957</td>\n",
       "      <td>2015</td>\n",
       "      <td>6</td>\n",
       "      <td>2437.0</td>\n",
       "      <td>2462.0</td>\n",
       "      <td>NaN</td>\n",
       "    </tr>\n",
       "    <tr>\n",
       "      <th>6</th>\n",
       "      <td>100013</td>\n",
       "      <td>Campora, Daniel H.</td>\n",
       "      <td>ARG</td>\n",
       "      <td>M</td>\n",
       "      <td>GM</td>\n",
       "      <td>1957</td>\n",
       "      <td>2015</td>\n",
       "      <td>7</td>\n",
       "      <td>2437.0</td>\n",
       "      <td>2462.0</td>\n",
       "      <td>NaN</td>\n",
       "    </tr>\n",
       "    <tr>\n",
       "      <th>7</th>\n",
       "      <td>100013</td>\n",
       "      <td>Campora, Daniel H.</td>\n",
       "      <td>ARG</td>\n",
       "      <td>M</td>\n",
       "      <td>GM</td>\n",
       "      <td>1957</td>\n",
       "      <td>2015</td>\n",
       "      <td>8</td>\n",
       "      <td>2448.0</td>\n",
       "      <td>2462.0</td>\n",
       "      <td>2448.0</td>\n",
       "    </tr>\n",
       "    <tr>\n",
       "      <th>8</th>\n",
       "      <td>100013</td>\n",
       "      <td>Campora, Daniel H.</td>\n",
       "      <td>ARG</td>\n",
       "      <td>M</td>\n",
       "      <td>GM</td>\n",
       "      <td>1957</td>\n",
       "      <td>2015</td>\n",
       "      <td>9</td>\n",
       "      <td>2456.0</td>\n",
       "      <td>2462.0</td>\n",
       "      <td>2414.0</td>\n",
       "    </tr>\n",
       "    <tr>\n",
       "      <th>9</th>\n",
       "      <td>100013</td>\n",
       "      <td>Campora, Daniel H.</td>\n",
       "      <td>ARG</td>\n",
       "      <td>M</td>\n",
       "      <td>GM</td>\n",
       "      <td>1957</td>\n",
       "      <td>2015</td>\n",
       "      <td>10</td>\n",
       "      <td>2462.0</td>\n",
       "      <td>2432.0</td>\n",
       "      <td>2414.0</td>\n",
       "    </tr>\n",
       "    <tr>\n",
       "      <th>10</th>\n",
       "      <td>100013</td>\n",
       "      <td>Campora, Daniel H.</td>\n",
       "      <td>ARG</td>\n",
       "      <td>M</td>\n",
       "      <td>GM</td>\n",
       "      <td>1957</td>\n",
       "      <td>2015</td>\n",
       "      <td>11</td>\n",
       "      <td>2462.0</td>\n",
       "      <td>2432.0</td>\n",
       "      <td>2414.0</td>\n",
       "    </tr>\n",
       "    <tr>\n",
       "      <th>11</th>\n",
       "      <td>100013</td>\n",
       "      <td>Campora, Daniel H.</td>\n",
       "      <td>ARG</td>\n",
       "      <td>M</td>\n",
       "      <td>GM</td>\n",
       "      <td>1957</td>\n",
       "      <td>2015</td>\n",
       "      <td>12</td>\n",
       "      <td>2458.0</td>\n",
       "      <td>2432.0</td>\n",
       "      <td>2414.0</td>\n",
       "    </tr>\n",
       "    <tr>\n",
       "      <th>12</th>\n",
       "      <td>100021</td>\n",
       "      <td>Quinteros, Miguel A.</td>\n",
       "      <td>ARG</td>\n",
       "      <td>M</td>\n",
       "      <td>GM</td>\n",
       "      <td>1947</td>\n",
       "      <td>2015</td>\n",
       "      <td>1</td>\n",
       "      <td>2422.0</td>\n",
       "      <td>NaN</td>\n",
       "      <td>NaN</td>\n",
       "    </tr>\n",
       "    <tr>\n",
       "      <th>13</th>\n",
       "      <td>100021</td>\n",
       "      <td>Quinteros, Miguel A.</td>\n",
       "      <td>ARG</td>\n",
       "      <td>M</td>\n",
       "      <td>GM</td>\n",
       "      <td>1947</td>\n",
       "      <td>2015</td>\n",
       "      <td>2</td>\n",
       "      <td>2422.0</td>\n",
       "      <td>NaN</td>\n",
       "      <td>NaN</td>\n",
       "    </tr>\n",
       "    <tr>\n",
       "      <th>14</th>\n",
       "      <td>100021</td>\n",
       "      <td>Quinteros, Miguel A.</td>\n",
       "      <td>ARG</td>\n",
       "      <td>M</td>\n",
       "      <td>GM</td>\n",
       "      <td>1947</td>\n",
       "      <td>2015</td>\n",
       "      <td>3</td>\n",
       "      <td>2422.0</td>\n",
       "      <td>NaN</td>\n",
       "      <td>NaN</td>\n",
       "    </tr>\n",
       "    <tr>\n",
       "      <th>15</th>\n",
       "      <td>100021</td>\n",
       "      <td>Quinteros, Miguel A.</td>\n",
       "      <td>ARG</td>\n",
       "      <td>M</td>\n",
       "      <td>GM</td>\n",
       "      <td>1947</td>\n",
       "      <td>2015</td>\n",
       "      <td>4</td>\n",
       "      <td>2422.0</td>\n",
       "      <td>NaN</td>\n",
       "      <td>NaN</td>\n",
       "    </tr>\n",
       "    <tr>\n",
       "      <th>16</th>\n",
       "      <td>100021</td>\n",
       "      <td>Quinteros, Miguel A.</td>\n",
       "      <td>ARG</td>\n",
       "      <td>M</td>\n",
       "      <td>GM</td>\n",
       "      <td>1947</td>\n",
       "      <td>2015</td>\n",
       "      <td>5</td>\n",
       "      <td>2422.0</td>\n",
       "      <td>NaN</td>\n",
       "      <td>NaN</td>\n",
       "    </tr>\n",
       "    <tr>\n",
       "      <th>17</th>\n",
       "      <td>100021</td>\n",
       "      <td>Quinteros, Miguel A.</td>\n",
       "      <td>ARG</td>\n",
       "      <td>M</td>\n",
       "      <td>GM</td>\n",
       "      <td>1947</td>\n",
       "      <td>2015</td>\n",
       "      <td>6</td>\n",
       "      <td>2422.0</td>\n",
       "      <td>NaN</td>\n",
       "      <td>NaN</td>\n",
       "    </tr>\n",
       "    <tr>\n",
       "      <th>18</th>\n",
       "      <td>100021</td>\n",
       "      <td>Quinteros, Miguel A.</td>\n",
       "      <td>ARG</td>\n",
       "      <td>M</td>\n",
       "      <td>GM</td>\n",
       "      <td>1947</td>\n",
       "      <td>2015</td>\n",
       "      <td>7</td>\n",
       "      <td>2422.0</td>\n",
       "      <td>NaN</td>\n",
       "      <td>NaN</td>\n",
       "    </tr>\n",
       "    <tr>\n",
       "      <th>19</th>\n",
       "      <td>100021</td>\n",
       "      <td>Quinteros, Miguel A.</td>\n",
       "      <td>ARG</td>\n",
       "      <td>M</td>\n",
       "      <td>GM</td>\n",
       "      <td>1947</td>\n",
       "      <td>2015</td>\n",
       "      <td>8</td>\n",
       "      <td>2422.0</td>\n",
       "      <td>NaN</td>\n",
       "      <td>NaN</td>\n",
       "    </tr>\n",
       "  </tbody>\n",
       "</table>\n",
       "</div>"
      ],
      "text/plain": [
       "    fide_id                  name federation gender title   yob  year  month  \\\n",
       "0    100013    Campora, Daniel H.        ARG      M    GM  1957  2015      1   \n",
       "1    100013    Campora, Daniel H.        ARG      M    GM  1957  2015      2   \n",
       "2    100013    Campora, Daniel H.        ARG      M    GM  1957  2015      3   \n",
       "3    100013    Campora, Daniel H.        ARG      M    GM  1957  2015      4   \n",
       "4    100013    Campora, Daniel H.        ARG      M    GM  1957  2015      5   \n",
       "5    100013    Campora, Daniel H.        ARG      M    GM  1957  2015      6   \n",
       "6    100013    Campora, Daniel H.        ARG      M    GM  1957  2015      7   \n",
       "7    100013    Campora, Daniel H.        ARG      M    GM  1957  2015      8   \n",
       "8    100013    Campora, Daniel H.        ARG      M    GM  1957  2015      9   \n",
       "9    100013    Campora, Daniel H.        ARG      M    GM  1957  2015     10   \n",
       "10   100013    Campora, Daniel H.        ARG      M    GM  1957  2015     11   \n",
       "11   100013    Campora, Daniel H.        ARG      M    GM  1957  2015     12   \n",
       "12   100021  Quinteros, Miguel A.        ARG      M    GM  1947  2015      1   \n",
       "13   100021  Quinteros, Miguel A.        ARG      M    GM  1947  2015      2   \n",
       "14   100021  Quinteros, Miguel A.        ARG      M    GM  1947  2015      3   \n",
       "15   100021  Quinteros, Miguel A.        ARG      M    GM  1947  2015      4   \n",
       "16   100021  Quinteros, Miguel A.        ARG      M    GM  1947  2015      5   \n",
       "17   100021  Quinteros, Miguel A.        ARG      M    GM  1947  2015      6   \n",
       "18   100021  Quinteros, Miguel A.        ARG      M    GM  1947  2015      7   \n",
       "19   100021  Quinteros, Miguel A.        ARG      M    GM  1947  2015      8   \n",
       "\n",
       "    rating_standard  rating_rapid  rating_blitz  \n",
       "0            2456.0        2462.0           NaN  \n",
       "1            2444.0        2462.0           NaN  \n",
       "2            2450.0        2462.0           NaN  \n",
       "3            2450.0        2462.0           NaN  \n",
       "4            2438.0        2462.0           NaN  \n",
       "5            2437.0        2462.0           NaN  \n",
       "6            2437.0        2462.0           NaN  \n",
       "7            2448.0        2462.0        2448.0  \n",
       "8            2456.0        2462.0        2414.0  \n",
       "9            2462.0        2432.0        2414.0  \n",
       "10           2462.0        2432.0        2414.0  \n",
       "11           2458.0        2432.0        2414.0  \n",
       "12           2422.0           NaN           NaN  \n",
       "13           2422.0           NaN           NaN  \n",
       "14           2422.0           NaN           NaN  \n",
       "15           2422.0           NaN           NaN  \n",
       "16           2422.0           NaN           NaN  \n",
       "17           2422.0           NaN           NaN  \n",
       "18           2422.0           NaN           NaN  \n",
       "19           2422.0           NaN           NaN  "
      ]
     },
     "execution_count": 12,
     "metadata": {},
     "output_type": "execute_result"
    }
   ],
   "source": [
    "data.head(20)"
   ]
  },
  {
   "cell_type": "code",
   "execution_count": 13,
   "metadata": {},
   "outputs": [
    {
     "data": {
      "text/plain": [
       "count    2.660178e+06\n",
       "mean     1.119167e+07\n",
       "std      1.289532e+07\n",
       "min      1.000130e+05\n",
       "25%      1.518100e+06\n",
       "50%      4.656830e+06\n",
       "75%      2.060105e+07\n",
       "max      3.832667e+08\n",
       "Name: fide_id, dtype: float64"
      ]
     },
     "execution_count": 13,
     "metadata": {},
     "output_type": "execute_result"
    }
   ],
   "source": [
    "data['fide_id'].describe()"
   ]
  },
  {
   "cell_type": "code",
   "execution_count": 14,
   "metadata": {},
   "outputs": [
    {
     "data": {
      "text/plain": [
       "count              2660178\n",
       "unique              236932\n",
       "top       Mueller, Michael\n",
       "freq                   108\n",
       "Name: name, dtype: object"
      ]
     },
     "execution_count": 14,
     "metadata": {},
     "output_type": "execute_result"
    }
   ],
   "source": [
    "data['name'].describe()"
   ]
  },
  {
   "cell_type": "code",
   "execution_count": 15,
   "metadata": {},
   "outputs": [
    {
     "data": {
      "text/plain": [
       "count     2660178\n",
       "unique        182\n",
       "top           RUS\n",
       "freq       281414\n",
       "Name: federation, dtype: object"
      ]
     },
     "execution_count": 15,
     "metadata": {},
     "output_type": "execute_result"
    }
   ],
   "source": [
    "data['federation'].describe()"
   ]
  },
  {
   "cell_type": "code",
   "execution_count": 16,
   "metadata": {},
   "outputs": [
    {
     "data": {
      "text/plain": [
       "count     2660178\n",
       "unique          2\n",
       "top             M\n",
       "freq      2405427\n",
       "Name: gender, dtype: object"
      ]
     },
     "execution_count": 16,
     "metadata": {},
     "output_type": "execute_result"
    }
   ],
   "source": [
    "data['gender'].describe()"
   ]
  },
  {
   "cell_type": "code",
   "execution_count": 17,
   "metadata": {},
   "outputs": [
    {
     "data": {
      "text/plain": [
       "count      2660178\n",
       "unique          14\n",
       "top       UNTITLED\n",
       "freq       2435205\n",
       "Name: title, dtype: object"
      ]
     },
     "execution_count": 17,
     "metadata": {},
     "output_type": "execute_result"
    }
   ],
   "source": [
    "data['title'].describe()"
   ]
  },
  {
   "cell_type": "code",
   "execution_count": 18,
   "metadata": {},
   "outputs": [
    {
     "data": {
      "text/plain": [
       "count    2660178.0\n",
       "mean        2015.0\n",
       "std            0.0\n",
       "min         2015.0\n",
       "25%         2015.0\n",
       "50%         2015.0\n",
       "75%         2015.0\n",
       "max         2015.0\n",
       "Name: year, dtype: float64"
      ]
     },
     "execution_count": 18,
     "metadata": {},
     "output_type": "execute_result"
    }
   ],
   "source": [
    "data['year'].describe()"
   ]
  },
  {
   "cell_type": "code",
   "execution_count": 19,
   "metadata": {},
   "outputs": [
    {
     "data": {
      "text/plain": [
       "count    2.660178e+06\n",
       "mean     6.677968e+00\n",
       "std      3.449519e+00\n",
       "min      1.000000e+00\n",
       "25%      4.000000e+00\n",
       "50%      7.000000e+00\n",
       "75%      1.000000e+01\n",
       "max      1.200000e+01\n",
       "Name: month, dtype: float64"
      ]
     },
     "execution_count": 19,
     "metadata": {},
     "output_type": "execute_result"
    }
   ],
   "source": [
    "data['month'].describe()"
   ]
  },
  {
   "cell_type": "code",
   "execution_count": 20,
   "metadata": {},
   "outputs": [
    {
     "data": {
      "text/plain": [
       "count    2.536620e+06\n",
       "mean     1.827545e+03\n",
       "std      3.030931e+02\n",
       "min      1.001000e+03\n",
       "25%      1.627000e+03\n",
       "50%      1.856000e+03\n",
       "75%      2.052000e+03\n",
       "max      2.876000e+03\n",
       "Name: rating_standard, dtype: float64"
      ]
     },
     "execution_count": 20,
     "metadata": {},
     "output_type": "execute_result"
    }
   ],
   "source": [
    "data['rating_standard'].describe()"
   ]
  },
  {
   "cell_type": "code",
   "execution_count": 21,
   "metadata": {},
   "outputs": [
    {
     "data": {
      "text/plain": [
       "count    615911.000000\n",
       "mean       1828.273013\n",
       "std         310.468726\n",
       "min        1000.000000\n",
       "25%        1619.000000\n",
       "50%        1840.000000\n",
       "75%        2043.000000\n",
       "max        2873.000000\n",
       "Name: rating_rapid, dtype: float64"
      ]
     },
     "execution_count": 21,
     "metadata": {},
     "output_type": "execute_result"
    }
   ],
   "source": [
    "data['rating_rapid'].describe()"
   ]
  },
  {
   "cell_type": "code",
   "execution_count": 22,
   "metadata": {},
   "outputs": [
    {
     "data": {
      "text/plain": [
       "count    502385.000000\n",
       "mean       1866.255434\n",
       "std         303.874347\n",
       "min        1000.000000\n",
       "25%        1666.000000\n",
       "50%        1881.000000\n",
       "75%        2074.000000\n",
       "max        2948.000000\n",
       "Name: rating_blitz, dtype: float64"
      ]
     },
     "execution_count": 22,
     "metadata": {},
     "output_type": "execute_result"
    }
   ],
   "source": [
    "data['rating_blitz'].describe()"
   ]
  },
  {
   "cell_type": "code",
   "execution_count": 23,
   "metadata": {},
   "outputs": [],
   "source": [
    "attrs = ['fide_id', 'name', 'federation', 'gender', 'title', 'year', 'month', 'rating_standard', 'rating_rapid', 'rating_blitz']"
   ]
  },
  {
   "cell_type": "code",
   "execution_count": 24,
   "metadata": {},
   "outputs": [],
   "source": [
    "rating_attrs = ['rating_standard', 'rating_rapid', 'rating_blitz']"
   ]
  },
  {
   "cell_type": "code",
   "execution_count": 25,
   "metadata": {},
   "outputs": [
    {
     "data": {
      "image/png": "[encoded data removed]",
      "text/plain": [
       "<Figure size 1440x2160 with 3 Axes>"
      ]
     },
     "metadata": {
      "needs_background": "light"
     },
     "output_type": "display_data"
    }
   ],
   "source": [
    "plt.figure(figsize=(20,30))\n",
    "for i, attr in enumerate(rating_attrs):\n",
    "    plt.subplot(5, 1, i+1)\n",
    "    plt.title(attr)\n",
    "    plt.hist(data[attr], bins=75)"
   ]
  },
  {
   "cell_type": "markdown",
   "metadata": {},
   "source": [
    "**3. For supervised learning tasks, identify the target attribute(s)**\n",
    "\n",
    "Our target attribute is already established between the rating_'standard', 'rapid', and 'blitz'... we will use these to compute predictions on time.\n",
    "\n",
    "**4. Visualize the data** "
   ]
  },
  {
   "cell_type": "code",
   "execution_count": 26,
   "metadata": {},
   "outputs": [],
   "source": [
    "def find_player(player_name):\n",
    "    return players[players['name'].str.find(player_name) != -1]"
   ]
  },
  {
   "cell_type": "code",
   "execution_count": 27,
   "metadata": {},
   "outputs": [
    {
     "data": {
      "text/html": [
       "<div>\n",
       "<style scoped>\n",
       "    .dataframe tbody tr th:only-of-type {\n",
       "        vertical-align: middle;\n",
       "    }\n",
       "\n",
       "    .dataframe tbody tr th {\n",
       "        vertical-align: top;\n",
       "    }\n",
       "\n",
       "    .dataframe thead th {\n",
       "        text-align: right;\n",
       "    }\n",
       "</style>\n",
       "<table border=\"1\" class=\"dataframe\">\n",
       "  <thead>\n",
       "    <tr style=\"text-align: right;\">\n",
       "      <th></th>\n",
       "      <th>fide_id</th>\n",
       "      <th>name</th>\n",
       "      <th>federation</th>\n",
       "      <th>gender</th>\n",
       "      <th>title</th>\n",
       "      <th>yob</th>\n",
       "    </tr>\n",
       "  </thead>\n",
       "  <tbody>\n",
       "    <tr>\n",
       "      <th>352061</th>\n",
       "      <td>30942829</td>\n",
       "      <td>Iyer, Tanishq</td>\n",
       "      <td>USA</td>\n",
       "      <td>M</td>\n",
       "      <td>UNTITLED</td>\n",
       "      <td>2001</td>\n",
       "    </tr>\n",
       "  </tbody>\n",
       "</table>\n",
       "</div>"
      ],
      "text/plain": [
       "         fide_id           name federation gender     title   yob\n",
       "352061  30942829  Iyer, Tanishq        USA      M  UNTITLED  2001"
      ]
     },
     "execution_count": 27,
     "metadata": {},
     "output_type": "execute_result"
    }
   ],
   "source": [
    "find_player('Iyer, Tanishq')"
   ]
  },
  {
   "cell_type": "code",
   "execution_count": 28,
   "metadata": {},
   "outputs": [],
   "source": [
    "federation = players[['federation']].value_counts(dropna=False).sort_values(ascending=False).head(10)\n",
    "title = players[['title']].value_counts(dropna=False).sort_values(ascending=False).head(9)\n",
    "list_title = list(title.keys())"
   ]
  },
  {
   "cell_type": "code",
   "execution_count": 29,
   "metadata": {},
   "outputs": [
    {
     "data": {
      "image/png": "[encoded data removed]",
      "text/plain": [
       "<Figure size 1224x432 with 2 Axes>"
      ]
     },
     "metadata": {
      "needs_background": "light"
     },
     "output_type": "display_data"
    }
   ],
   "source": [
    "fig, axs = plt.subplots(1, 2, figsize=(17, 6))\n",
    "# Count of titles\n",
    "axs[0].bar(range(9), title)\n",
    "axs[0].set_ylabel('Frequency')\n",
    "axs[0].set_yscale('log')\n",
    "axs[0].set_xlabel('Title')\n",
    "axs[0].grid()\n",
    "axs[0].set_xticks(range(9))\n",
    "axs[0].set_xticklabels(list_title)\n",
    "\n",
    "# Count of players by federation\n",
    "axs[1].bar(range(10), federation)\n",
    "axs[1].set_ylabel('Frequency')\n",
    "axs[1].set_xlabel('Federation')\n",
    "axs[1].grid()\n",
    "axs[1].set_xticks(range(10))\n",
    "axs[1].set_xticklabels(federation.keys());"
   ]
  },
  {
   "cell_type": "code",
   "execution_count": 30,
   "metadata": {},
   "outputs": [
    {
     "data": {
      "image/png": "[encoded data removed]",
      "text/plain": [
       "<Figure size 1080x360 with 2 Axes>"
      ]
     },
     "metadata": {
      "needs_background": "light"
     },
     "output_type": "display_data"
    }
   ],
   "source": [
    "plt.figure(figsize=(15, 5))\n",
    "plt.title('correlation of rating attributes')\n",
    "sns.heatmap(data[rating_attrs].corr(), annot=True, vmin=-1, vmax=1, cmap='seismic')\n",
    "plt.tight_layout()"
   ]
  },
  {
   "cell_type": "markdown",
   "metadata": {},
   "source": [
    "**5. Study the correlations between attributes** "
   ]
  },
  {
   "cell_type": "markdown",
   "metadata": {},
   "source": [
    "All of the attributes (3) that are able to be coorelated with each other due to their numerical rating are very very closely coorelated. This is due to the normal distribution of each time format making it distributed extremly well."
   ]
  },
  {
   "cell_type": "markdown",
   "metadata": {},
   "source": [
    "**6. Study how you would solve the problem manually** \n",
    "\n",
    "In order to solve this problem manually you have would have to create an algorithm with extreme specificity that can calculate all determing factors that can predict how ones elo score might change over a period of time.\n",
    "\n",
    "**7. Identify the promising transformations you may want to apply** \n",
    "\n",
    "It would be useful to join all of the ratings_ csv files together to have one cohesive set over all 7 years of data we have. Other than this there is not that much transformations in terms of what we have to do with the data. There is a ton of solid information that we will be able to work with here.\n",
    "\n",
    "**8. Identify extra data that would be useful (go back to “Get the Data”)**\n",
    "\n",
    "Considering we have so much data and only so much computer power doing the task at hand alone should be sufficient for our needs.\n",
    "\n",
    "**9. Document what you have learned**\n",
    "\n",
    "We have larned that all of our data within players.csv and ratings_*.csv coorelate and align nicely with each other. The rating types are all highly coorelated because of the normal distribution between all of the time formats. On top of all of this we have learned how to join both of our tables joined around 'fide_id' which will make our process a lot easier.\n",
    "\n",
    "Another thing we learned is the thresholds for being associated with a certain title and how the distribution of ELO goes out amongst players at certain ranks. This will be very helpful in the long run as we try to make a model that makes accurate predictions around what rank a player is at."
   ]
  },
  {
   "cell_type": "markdown",
   "metadata": {},
   "source": [
    "Prepare the Data \n",
    "---\n",
    "**1. Data cleaning: Fix/remove outliers (optional); Fill in missing values (with 0, mean, median...) or drop rows/columns**\n",
    " "
   ]
  },
  {
   "cell_type": "code",
   "execution_count": 31,
   "metadata": {},
   "outputs": [
    {
     "name": "stdout",
     "output_type": "stream",
     "text": [
      "<class 'pandas.core.frame.DataFrame'>\n",
      "Int64Index: 2660178 entries, 0 to 2660177\n",
      "Data columns (total 11 columns):\n",
      " #   Column           Dtype  \n",
      "---  ------           -----  \n",
      " 0   fide_id          int64  \n",
      " 1   name             object \n",
      " 2   federation       object \n",
      " 3   gender           object \n",
      " 4   title            object \n",
      " 5   yob              int64  \n",
      " 6   year             int64  \n",
      " 7   month            int64  \n",
      " 8   rating_standard  float64\n",
      " 9   rating_rapid     float64\n",
      " 10  rating_blitz     float64\n",
      "dtypes: float64(3), int64(4), object(4)\n",
      "memory usage: 243.5+ MB\n"
     ]
    }
   ],
   "source": [
    "data.info()"
   ]
  },
  {
   "cell_type": "markdown",
   "metadata": {},
   "source": [
    "**2. Feature selection (optional): Drop attributes that provide no useful information for the task**"
   ]
  },
  {
   "cell_type": "code",
   "execution_count": 32,
   "metadata": {},
   "outputs": [],
   "source": [
    "data = data.drop(columns='yob')"
   ]
  },
  {
   "cell_type": "code",
   "execution_count": 33,
   "metadata": {},
   "outputs": [],
   "source": [
    "data = data.drop(columns='gender')"
   ]
  },
  {
   "cell_type": "markdown",
   "metadata": {},
   "source": [
    "**3. Feature engineering, where appropriate: Discretize continuous features; Decompose feature (categorical, date/time, ...), Add promising transformations of features (log(𝑥𝑥), √𝑥𝑥, 𝑥𝑥2, ...);Aggregate features into promising new features**\n",
    "\n",
    "**4. Feature scaling: standardize or normalize features**"
   ]
  },
  {
   "cell_type": "markdown",
   "metadata": {},
   "source": [
    "Short-List Promising Models\n",
    "---\n",
    "\n",
    "**1. Train many quick and dirty models from different categories (e.g. linear, naive Bayes, SVM, Random Forests, neural net, ...) using standard parameters** \n",
    "\n",
    "**2. Measure and compare their performance. For each model, use 𝑁𝑁-fold cross-\n",
    "validation and compute the mean and standard deviation of the performance \n",
    "measure on the 𝑁𝑁 folds.**\n",
    "\n",
    "**3. Analyze the most significant variables for each algorithm** \n",
    "\n",
    "**4. Analyze the types of errors the models make. What data would a human have used to avoid these errors?** \n",
    "\n",
    "**5. Have a quick round of feature selection and engineering** \n",
    "\n",
    "**6. Have one or two more quick iterations of the five previous steps** \n",
    "\n",
    "**7. Short-list the top three to five most promising models, preferring models that make different types of errors** \n"
   ]
  },
  {
   "cell_type": "markdown",
   "metadata": {},
   "source": []
  }
 ],
 "metadata": {
  "interpreter": {
   "hash": "397704579725e15f5c7cb49fe5f0341eb7531c82d19f2c29d197e8b64ab5776b"
  },
  "kernelspec": {
   "display_name": "Python 3.9.7 64-bit",
   "name": "python3"
  },
  "language_info": {
   "codemirror_mode": {
    "name": "ipython",
    "version": 3
   },
   "file_extension": ".py",
   "mimetype": "text/x-python",
   "name": "python",
   "nbconvert_exporter": "python",
   "pygments_lexer": "ipython3",
   "version": "3.9.7"
  },
  "orig_nbformat": 4
 },
 "nbformat": 4,
 "nbformat_minor": 2
}
